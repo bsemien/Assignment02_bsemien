{
 "cells": [
  {
   "cell_type": "code",
   "execution_count": 1,
   "id": "6ecdb319",
   "metadata": {},
   "outputs": [],
   "source": [
    "# Explanation of Covariate Process\n",
    "    # I began this experiment using the methodology and models set up in the randomized\n",
    "    #experiments in class exercise.  Leveraging the functions provided, I set out to explore \n",
    "    #the impact of covariates in a real world situation.  The idea behind all three of my DGPs \n",
    "    #is modeling the height of an individual.  The treatment I set at 5.5 which would acquate to \n",
    "    #five and a half feet tall, which I thought was a decent intercept and starting point.  \n",
    "    #I followed the monte carlo process steps and received my results"
   ]
  },
  {
   "cell_type": "code",
   "execution_count": 2,
   "id": "6cb87311",
   "metadata": {},
   "outputs": [],
   "source": [
    "# Explanation of Confounder Process\n",
    "    #I ran into a issue early on in this process which was the conf_mul variable in place to \n",
    "    #eliminate the confounding variable in the previous covariate experiment\n",
    "    #however, in this case I obviously wanted the confounding variable present\n",
    "    #so In adjusted the Yab equation and eliminated that conf_mul which I believe to be okay\n",
    "    #because I am using confounding variable and thus dont need a 0 multiplier to eliminate it\n",
    "    #this made the rest of the monte carlo process run smoothly\n",
    "    #again, I continued with the real world example of height.  I believe the confounding variable\n",
    "    #in this case could be your mothers height.  This will also set me up for selection bias."
   ]
  },
  {
   "cell_type": "code",
   "execution_count": null,
   "id": "3a17b3dc",
   "metadata": {},
   "outputs": [],
   "source": [
    "# Explanation of Selction Bias Process\n",
    "    # The selection bias process is another case in which i need to adjust the DGP equation\n",
    "    # this time to include a variable that is in between one of my variables and my Y\n",
    "    # so I created a variable D that is a function of my previous confounding variable C\n",
    "    # In my real world example, I made D equivalent to the mean height of both parents\n",
    "    #obviously height of mother is going to go into the mean height of both parents variable\n",
    "    #thus creating selection bias\n",
    "    #once I created the variable, I ran the monte carlo simulation with said equation"
   ]
  },
  {
   "cell_type": "code",
   "execution_count": null,
   "id": "63a730a9",
   "metadata": {},
   "outputs": [],
   "source": [
    "# Disclaimer\n",
    "    #While I attempted to export my generated data to csv, I was unsuccessful\n",
    "    #despite iterations, including creating simplifief models, and lots of research\n",
    "    # I was unsuccessful\n",
    "    # I provided one of my iterations or attempts when I used a simplified equation"
   ]
  }
 ],
 "metadata": {
  "kernelspec": {
   "display_name": "Python 3 (ipykernel)",
   "language": "python",
   "name": "python3"
  },
  "language_info": {
   "codemirror_mode": {
    "name": "ipython",
    "version": 3
   },
   "file_extension": ".py",
   "mimetype": "text/x-python",
   "name": "python",
   "nbconvert_exporter": "python",
   "pygments_lexer": "ipython3",
   "version": "3.9.7"
  }
 },
 "nbformat": 4,
 "nbformat_minor": 5
}
