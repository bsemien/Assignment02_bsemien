{
 "cells": [
  {
   "cell_type": "code",
   "execution_count": 19,
   "id": "5a7f733c",
   "metadata": {},
   "outputs": [],
   "source": [
    "import pandas as pd\n",
    "import numpy as np\n",
    "import matplotlib.pyplot as plt\n",
    "import statsmodels.api as sm\n",
    "\n",
    "a = 5.5 \n",
    "b = 1.2\n",
    "c = 0.5\n",
    "n = 100\n",
    "\n",
    "X = np.random.uniform(0,1,n)\n",
    "Z = np.random.normal(0,1,n)\n",
    "e = np.random.normal(0,1,n) \n",
    "\n",
    "Y = a + b*X + c*Z + e"
   ]
  },
  {
   "cell_type": "code",
   "execution_count": 8,
   "id": "9a51b402",
   "metadata": {},
   "outputs": [],
   "source": [
    "model = sm.OLS(Y,X+Z)"
   ]
  },
  {
   "cell_type": "code",
   "execution_count": 10,
   "id": "d36af836",
   "metadata": {
    "scrolled": true
   },
   "outputs": [],
   "source": [
    "res=model.fit()"
   ]
  },
  {
   "cell_type": "code",
   "execution_count": 11,
   "id": "ce384349",
   "metadata": {},
   "outputs": [
    {
     "data": {
      "text/html": [
       "<table class=\"simpletable\">\n",
       "<caption>OLS Regression Results</caption>\n",
       "<tr>\n",
       "  <th>Dep. Variable:</th>            <td>y</td>        <th>  R-squared (uncentered):</th>      <td>   0.095</td>\n",
       "</tr>\n",
       "<tr>\n",
       "  <th>Model:</th>                   <td>OLS</td>       <th>  Adj. R-squared (uncentered):</th> <td>   0.086</td>\n",
       "</tr>\n",
       "<tr>\n",
       "  <th>Method:</th>             <td>Least Squares</td>  <th>  F-statistic:       </th>          <td>   10.42</td>\n",
       "</tr>\n",
       "<tr>\n",
       "  <th>Date:</th>             <td>Fri, 15 Apr 2022</td> <th>  Prob (F-statistic):</th>           <td>0.00169</td>\n",
       "</tr>\n",
       "<tr>\n",
       "  <th>Time:</th>                 <td>08:18:34</td>     <th>  Log-Likelihood:    </th>          <td> -395.20</td>\n",
       "</tr>\n",
       "<tr>\n",
       "  <th>No. Observations:</th>      <td>   100</td>      <th>  AIC:               </th>          <td>   792.4</td>\n",
       "</tr>\n",
       "<tr>\n",
       "  <th>Df Residuals:</th>          <td>    99</td>      <th>  BIC:               </th>          <td>   795.0</td>\n",
       "</tr>\n",
       "<tr>\n",
       "  <th>Df Model:</th>              <td>     1</td>      <th>                     </th>              <td> </td>   \n",
       "</tr>\n",
       "<tr>\n",
       "  <th>Covariance Type:</th>      <td>nonrobust</td>    <th>                     </th>              <td> </td>   \n",
       "</tr>\n",
       "</table>\n",
       "<table class=\"simpletable\">\n",
       "<tr>\n",
       "   <td></td>     <th>coef</th>     <th>std err</th>      <th>t</th>      <th>P>|t|</th>  <th>[0.025</th>    <th>0.975]</th>  \n",
       "</tr>\n",
       "<tr>\n",
       "  <th>x1</th> <td>    0.3788</td> <td>    0.117</td> <td>    3.228</td> <td> 0.002</td> <td>    0.146</td> <td>    0.612</td>\n",
       "</tr>\n",
       "</table>\n",
       "<table class=\"simpletable\">\n",
       "<tr>\n",
       "  <th>Omnibus:</th>       <td> 1.104</td> <th>  Durbin-Watson:     </th> <td>   1.361</td>\n",
       "</tr>\n",
       "<tr>\n",
       "  <th>Prob(Omnibus):</th> <td> 0.576</td> <th>  Jarque-Bera (JB):  </th> <td>   0.922</td>\n",
       "</tr>\n",
       "<tr>\n",
       "  <th>Skew:</th>          <td> 0.235</td> <th>  Prob(JB):          </th> <td>   0.631</td>\n",
       "</tr>\n",
       "<tr>\n",
       "  <th>Kurtosis:</th>      <td> 2.985</td> <th>  Cond. No.          </th> <td>    1.00</td>\n",
       "</tr>\n",
       "</table><br/><br/>Notes:<br/>[1] R² is computed without centering (uncentered) since the model does not contain a constant.<br/>[2] Standard Errors assume that the covariance matrix of the errors is correctly specified."
      ],
      "text/plain": [
       "<class 'statsmodels.iolib.summary.Summary'>\n",
       "\"\"\"\n",
       "                                 OLS Regression Results                                \n",
       "=======================================================================================\n",
       "Dep. Variable:                      y   R-squared (uncentered):                   0.095\n",
       "Model:                            OLS   Adj. R-squared (uncentered):              0.086\n",
       "Method:                 Least Squares   F-statistic:                              10.42\n",
       "Date:                Fri, 15 Apr 2022   Prob (F-statistic):                     0.00169\n",
       "Time:                        08:18:34   Log-Likelihood:                         -395.20\n",
       "No. Observations:                 100   AIC:                                      792.4\n",
       "Df Residuals:                      99   BIC:                                      795.0\n",
       "Df Model:                           1                                                  \n",
       "Covariance Type:            nonrobust                                                  \n",
       "==============================================================================\n",
       "                 coef    std err          t      P>|t|      [0.025      0.975]\n",
       "------------------------------------------------------------------------------\n",
       "x1             0.3788      0.117      3.228      0.002       0.146       0.612\n",
       "==============================================================================\n",
       "Omnibus:                        1.104   Durbin-Watson:                   1.361\n",
       "Prob(Omnibus):                  0.576   Jarque-Bera (JB):                0.922\n",
       "Skew:                           0.235   Prob(JB):                        0.631\n",
       "Kurtosis:                       2.985   Cond. No.                         1.00\n",
       "==============================================================================\n",
       "\n",
       "Notes:\n",
       "[1] R² is computed without centering (uncentered) since the model does not contain a constant.\n",
       "[2] Standard Errors assume that the covariance matrix of the errors is correctly specified.\n",
       "\"\"\""
      ]
     },
     "execution_count": 11,
     "metadata": {},
     "output_type": "execute_result"
    }
   ],
   "source": [
    "res.summary()"
   ]
  },
  {
   "cell_type": "code",
   "execution_count": 13,
   "id": "676cbcf1",
   "metadata": {
    "scrolled": true
   },
   "outputs": [],
   "source": [
    "model02 = sm.OLS(Y,X)"
   ]
  },
  {
   "cell_type": "code",
   "execution_count": 14,
   "id": "28dcd5ce",
   "metadata": {},
   "outputs": [],
   "source": [
    "res02=model02.fit()"
   ]
  },
  {
   "cell_type": "code",
   "execution_count": 16,
   "id": "83e4fe0a",
   "metadata": {},
   "outputs": [
    {
     "data": {
      "text/html": [
       "<table class=\"simpletable\">\n",
       "<caption>OLS Regression Results</caption>\n",
       "<tr>\n",
       "  <th>Dep. Variable:</th>            <td>y</td>        <th>  R-squared (uncentered):</th>      <td>   0.175</td>\n",
       "</tr>\n",
       "<tr>\n",
       "  <th>Model:</th>                   <td>OLS</td>       <th>  Adj. R-squared (uncentered):</th> <td>   0.167</td>\n",
       "</tr>\n",
       "<tr>\n",
       "  <th>Method:</th>             <td>Least Squares</td>  <th>  F-statistic:       </th>          <td>   21.07</td>\n",
       "</tr>\n",
       "<tr>\n",
       "  <th>Date:</th>             <td>Fri, 15 Apr 2022</td> <th>  Prob (F-statistic):</th>          <td>1.30e-05</td>\n",
       "</tr>\n",
       "<tr>\n",
       "  <th>Time:</th>                 <td>08:25:05</td>     <th>  Log-Likelihood:    </th>          <td> -390.55</td>\n",
       "</tr>\n",
       "<tr>\n",
       "  <th>No. Observations:</th>      <td>   100</td>      <th>  AIC:               </th>          <td>   783.1</td>\n",
       "</tr>\n",
       "<tr>\n",
       "  <th>Df Residuals:</th>          <td>    99</td>      <th>  BIC:               </th>          <td>   785.7</td>\n",
       "</tr>\n",
       "<tr>\n",
       "  <th>Df Model:</th>              <td>     1</td>      <th>                     </th>              <td> </td>   \n",
       "</tr>\n",
       "<tr>\n",
       "  <th>Covariance Type:</th>      <td>nonrobust</td>    <th>                     </th>              <td> </td>   \n",
       "</tr>\n",
       "</table>\n",
       "<table class=\"simpletable\">\n",
       "<tr>\n",
       "   <td></td>     <th>coef</th>     <th>std err</th>      <th>t</th>      <th>P>|t|</th>  <th>[0.025</th>    <th>0.975]</th>  \n",
       "</tr>\n",
       "<tr>\n",
       "  <th>x1</th> <td>   10.0824</td> <td>    2.196</td> <td>    4.590</td> <td> 0.000</td> <td>    5.724</td> <td>   14.441</td>\n",
       "</tr>\n",
       "</table>\n",
       "<table class=\"simpletable\">\n",
       "<tr>\n",
       "  <th>Omnibus:</th>       <td> 3.261</td> <th>  Durbin-Watson:     </th> <td>   1.822</td>\n",
       "</tr>\n",
       "<tr>\n",
       "  <th>Prob(Omnibus):</th> <td> 0.196</td> <th>  Jarque-Bera (JB):  </th> <td>   2.599</td>\n",
       "</tr>\n",
       "<tr>\n",
       "  <th>Skew:</th>          <td> 0.327</td> <th>  Prob(JB):          </th> <td>   0.273</td>\n",
       "</tr>\n",
       "<tr>\n",
       "  <th>Kurtosis:</th>      <td> 3.443</td> <th>  Cond. No.          </th> <td>    1.00</td>\n",
       "</tr>\n",
       "</table><br/><br/>Notes:<br/>[1] R² is computed without centering (uncentered) since the model does not contain a constant.<br/>[2] Standard Errors assume that the covariance matrix of the errors is correctly specified."
      ],
      "text/plain": [
       "<class 'statsmodels.iolib.summary.Summary'>\n",
       "\"\"\"\n",
       "                                 OLS Regression Results                                \n",
       "=======================================================================================\n",
       "Dep. Variable:                      y   R-squared (uncentered):                   0.175\n",
       "Model:                            OLS   Adj. R-squared (uncentered):              0.167\n",
       "Method:                 Least Squares   F-statistic:                              21.07\n",
       "Date:                Fri, 15 Apr 2022   Prob (F-statistic):                    1.30e-05\n",
       "Time:                        08:25:05   Log-Likelihood:                         -390.55\n",
       "No. Observations:                 100   AIC:                                      783.1\n",
       "Df Residuals:                      99   BIC:                                      785.7\n",
       "Df Model:                           1                                                  \n",
       "Covariance Type:            nonrobust                                                  \n",
       "==============================================================================\n",
       "                 coef    std err          t      P>|t|      [0.025      0.975]\n",
       "------------------------------------------------------------------------------\n",
       "x1            10.0824      2.196      4.590      0.000       5.724      14.441\n",
       "==============================================================================\n",
       "Omnibus:                        3.261   Durbin-Watson:                   1.822\n",
       "Prob(Omnibus):                  0.196   Jarque-Bera (JB):                2.599\n",
       "Skew:                           0.327   Prob(JB):                        0.273\n",
       "Kurtosis:                       3.443   Cond. No.                         1.00\n",
       "==============================================================================\n",
       "\n",
       "Notes:\n",
       "[1] R² is computed without centering (uncentered) since the model does not contain a constant.\n",
       "[2] Standard Errors assume that the covariance matrix of the errors is correctly specified.\n",
       "\"\"\""
      ]
     },
     "execution_count": 16,
     "metadata": {},
     "output_type": "execute_result"
    }
   ],
   "source": [
    "res02.summary()"
   ]
  },
  {
   "cell_type": "code",
   "execution_count": 20,
   "id": "0979f698",
   "metadata": {
    "scrolled": true
   },
   "outputs": [
    {
     "ename": "AttributeError",
     "evalue": "'numpy.ndarray' object has no attribute 'to_csv'",
     "output_type": "error",
     "traceback": [
      "\u001b[0;31m---------------------------------------------------------------------------\u001b[0m",
      "\u001b[0;31mAttributeError\u001b[0m                            Traceback (most recent call last)",
      "\u001b[0;32m/var/folders/8b/zxw0f8nx0l54rvl5c2yh7y_w0000gn/T/ipykernel_84586/1052469111.py\u001b[0m in \u001b[0;36m<module>\u001b[0;34m\u001b[0m\n\u001b[0;32m----> 1\u001b[0;31m \u001b[0mY\u001b[0m\u001b[0;34m.\u001b[0m\u001b[0mto_csv\u001b[0m\u001b[0;34m(\u001b[0m\u001b[0;34m'confounderdata.csv'\u001b[0m\u001b[0;34m)\u001b[0m\u001b[0;34m\u001b[0m\u001b[0;34m\u001b[0m\u001b[0m\n\u001b[0m",
      "\u001b[0;31mAttributeError\u001b[0m: 'numpy.ndarray' object has no attribute 'to_csv'"
     ]
    }
   ],
   "source": [
    "Y.to_csv('confounderdata.csv')"
   ]
  },
  {
   "cell_type": "code",
   "execution_count": 21,
   "id": "8437a566",
   "metadata": {},
   "outputs": [
    {
     "ename": "AttributeError",
     "evalue": "module 'pandas' has no attribute 'Dataframe'",
     "output_type": "error",
     "traceback": [
      "\u001b[0;31m---------------------------------------------------------------------------\u001b[0m",
      "\u001b[0;31mAttributeError\u001b[0m                            Traceback (most recent call last)",
      "\u001b[0;32m/var/folders/8b/zxw0f8nx0l54rvl5c2yh7y_w0000gn/T/ipykernel_84586/2360510476.py\u001b[0m in \u001b[0;36m<module>\u001b[0;34m\u001b[0m\n\u001b[0;32m----> 1\u001b[0;31m \u001b[0mpd\u001b[0m\u001b[0;34m.\u001b[0m\u001b[0mDataframe\u001b[0m\u001b[0;34m(\u001b[0m\u001b[0mY\u001b[0m\u001b[0;34m)\u001b[0m\u001b[0;34m.\u001b[0m\u001b[0mto_csv\u001b[0m\u001b[0;34m(\u001b[0m\u001b[0;34m'confounderdata.csv'\u001b[0m\u001b[0;34m)\u001b[0m\u001b[0;34m\u001b[0m\u001b[0;34m\u001b[0m\u001b[0m\n\u001b[0m",
      "\u001b[0;32m~/opt/anaconda3/lib/python3.9/site-packages/pandas/__init__.py\u001b[0m in \u001b[0;36m__getattr__\u001b[0;34m(name)\u001b[0m\n\u001b[1;32m    242\u001b[0m         \u001b[0;32mreturn\u001b[0m \u001b[0m_SparseArray\u001b[0m\u001b[0;34m\u001b[0m\u001b[0;34m\u001b[0m\u001b[0m\n\u001b[1;32m    243\u001b[0m \u001b[0;34m\u001b[0m\u001b[0m\n\u001b[0;32m--> 244\u001b[0;31m     \u001b[0;32mraise\u001b[0m \u001b[0mAttributeError\u001b[0m\u001b[0;34m(\u001b[0m\u001b[0;34mf\"module 'pandas' has no attribute '{name}'\"\u001b[0m\u001b[0;34m)\u001b[0m\u001b[0;34m\u001b[0m\u001b[0;34m\u001b[0m\u001b[0m\n\u001b[0m\u001b[1;32m    245\u001b[0m \u001b[0;34m\u001b[0m\u001b[0m\n\u001b[1;32m    246\u001b[0m \u001b[0;34m\u001b[0m\u001b[0m\n",
      "\u001b[0;31mAttributeError\u001b[0m: module 'pandas' has no attribute 'Dataframe'"
     ]
    }
   ],
   "source": [
    "pd.Dataframe(Y).to_csv('confounderdata.csv')"
   ]
  },
  {
   "cell_type": "code",
   "execution_count": 22,
   "id": "e26f33cc",
   "metadata": {},
   "outputs": [],
   "source": [
    "import pandas as pd\n",
    "import numpy as np\n",
    "import matplotlib.pyplot as plt\n",
    "import statsmodels.api as sm\n",
    "\n",
    "a = 5.5 \n",
    "b = 1.2\n",
    "c = 0.5\n",
    "n = 100\n",
    "\n",
    "X = np.random.uniform(0,1,n)\n",
    "Z = np.random.normal(0,1,n)\n",
    "e = np.random.normal(0,1,n) \n",
    "\n",
    "Y = a + b*X + c*Z + e"
   ]
  },
  {
   "cell_type": "code",
   "execution_count": 23,
   "id": "72cd5a37",
   "metadata": {},
   "outputs": [
    {
     "name": "stdout",
     "output_type": "stream",
     "text": [
      "[0.83319877 0.35482021 0.57841149 0.0021982  0.80447349 0.78548064\n",
      " 0.87499764 0.27686805 0.29984831 0.13842034 0.70152724 0.96386217\n",
      " 0.00340399 0.00772593 0.30140661 0.09202717 0.04011147 0.11287584\n",
      " 0.1648235  0.26910913 0.64806707 0.35260186 0.28064057 0.18815253\n",
      " 0.6502223  0.89254747 0.88112963 0.49803081 0.83040895 0.68358039\n",
      " 0.79613887 0.06513044 0.28637526 0.04573809 0.35212381 0.10729054\n",
      " 0.77351434 0.09294259 0.26241256 0.74308398 0.39782379 0.49136262\n",
      " 0.58756786 0.22215556 0.68192413 0.2508553  0.35096325 0.44983142\n",
      " 0.45665227 0.62294504 0.53384856 0.44861291 0.81302782 0.3305791\n",
      " 0.73565149 0.90995184 0.49273691 0.02695144 0.08739312 0.70912401\n",
      " 0.29754652 0.24590384 0.05647031 0.90556264 0.86617411 0.42148178\n",
      " 0.53759143 0.26865135 0.37144253 0.36533762 0.9372606  0.38020109\n",
      " 0.07021328 0.65256857 0.10449643 0.63987709 0.46990041 0.63197898\n",
      " 0.43923138 0.81916405 0.6380362  0.42411675 0.17105481 0.45813186\n",
      " 0.55833627 0.9500789  0.51523164 0.85942521 0.43866226 0.08943879\n",
      " 0.46081771 0.68426724 0.47285629 0.52325944 0.48768257 0.45300872\n",
      " 0.27976026 0.02827624 0.3615263  0.49609523]\n"
     ]
    }
   ],
   "source": [
    "print(X)"
   ]
  },
  {
   "cell_type": "code",
   "execution_count": 25,
   "id": "7109a41c",
   "metadata": {},
   "outputs": [
    {
     "name": "stdout",
     "output_type": "stream",
     "text": [
      "[8.04164683 5.45978325 5.21866961 7.61139182 7.56654871 6.95645823\n",
      " 6.02828399 5.29138382 5.49418392 6.55940949 7.52638648 7.64083606\n",
      " 6.4375525  4.84011785 3.93426553 4.58736521 5.1144963  6.48834355\n",
      " 4.39408099 6.01236513 5.06598774 5.91220802 6.75714027 5.35818641\n",
      " 6.27982843 6.84197695 7.41840792 5.89141555 8.31233675 7.29675103\n",
      " 6.96708236 4.53108071 6.01209501 4.9483655  5.65870365 7.8272364\n",
      " 7.05427515 5.01263567 6.8231915  7.24782614 5.85626055 6.5805051\n",
      " 6.76070921 5.06644603 7.18207911 5.83455083 6.54754364 6.9270136\n",
      " 6.59556801 7.52026418 7.35562107 5.34191092 6.02314982 6.32937177\n",
      " 6.3720778  7.75407764 4.52664073 3.82700631 6.32221237 7.41185894\n",
      " 7.70075429 4.76704873 4.75267421 7.68155921 6.66123377 6.02645667\n",
      " 4.9993454  4.8832034  6.32025329 6.4170356  6.79268097 6.18237641\n",
      " 5.00179133 7.63228429 4.92156434 6.58160712 5.73163589 7.54769614\n",
      " 6.15634016 4.14314226 5.83070597 6.32809259 6.89640934 7.79210147\n",
      " 6.15052775 7.12157818 6.09698659 8.73320622 5.55343551 4.8673189\n",
      " 4.51409656 6.25999222 5.38878329 6.55862188 6.66187836 4.925068\n",
      " 4.76050917 4.46258258 4.91911642 5.66861601] [0.83319877 0.35482021 0.57841149 0.0021982  0.80447349 0.78548064\n",
      " 0.87499764 0.27686805 0.29984831 0.13842034 0.70152724 0.96386217\n",
      " 0.00340399 0.00772593 0.30140661 0.09202717 0.04011147 0.11287584\n",
      " 0.1648235  0.26910913 0.64806707 0.35260186 0.28064057 0.18815253\n",
      " 0.6502223  0.89254747 0.88112963 0.49803081 0.83040895 0.68358039\n",
      " 0.79613887 0.06513044 0.28637526 0.04573809 0.35212381 0.10729054\n",
      " 0.77351434 0.09294259 0.26241256 0.74308398 0.39782379 0.49136262\n",
      " 0.58756786 0.22215556 0.68192413 0.2508553  0.35096325 0.44983142\n",
      " 0.45665227 0.62294504 0.53384856 0.44861291 0.81302782 0.3305791\n",
      " 0.73565149 0.90995184 0.49273691 0.02695144 0.08739312 0.70912401\n",
      " 0.29754652 0.24590384 0.05647031 0.90556264 0.86617411 0.42148178\n",
      " 0.53759143 0.26865135 0.37144253 0.36533762 0.9372606  0.38020109\n",
      " 0.07021328 0.65256857 0.10449643 0.63987709 0.46990041 0.63197898\n",
      " 0.43923138 0.81916405 0.6380362  0.42411675 0.17105481 0.45813186\n",
      " 0.55833627 0.9500789  0.51523164 0.85942521 0.43866226 0.08943879\n",
      " 0.46081771 0.68426724 0.47285629 0.52325944 0.48768257 0.45300872\n",
      " 0.27976026 0.02827624 0.3615263  0.49609523] [ 1.60329228 -0.92648226 -0.4920024   0.81697346 -0.6564303   0.93380214\n",
      "  1.51423627 -0.07482104 -0.3673774  -1.78016209 -0.52041399  0.6135491\n",
      "  1.78012729  0.18020691 -0.16154777 -0.76107363 -1.03613441 -1.11151254\n",
      " -0.90599449 -1.37692746 -0.2041855  -0.12327988  1.25302986 -1.70497316\n",
      " -0.74408535 -0.21709693 -0.2171088   0.07384829 -0.20212011  1.4397367\n",
      " -0.0863223  -0.77565334 -0.76670576 -1.0628603  -0.45719118 -0.08400465\n",
      "  0.51169123 -1.0339563   0.30423848  1.8905047   0.50492923 -0.8551943\n",
      "  0.65486405 -1.8811554  -0.48986798 -1.93194548 -0.1281812   1.50018423\n",
      " -0.75257332  0.53072692  0.30908014  0.3581337   1.05369531  0.91010729\n",
      "  1.21403859 -0.6729747   0.1613535  -0.58702329 -0.88797818  0.88856389\n",
      "  0.04267481 -1.48502998 -0.56148539  0.03206813 -0.80870499 -0.84478136\n",
      " -1.94399752 -2.13138483  2.45880572  0.18180419  0.04129494  0.74091878\n",
      "  0.14337637  0.61900781 -1.89212041  0.1276213  -0.09982022  0.34708557\n",
      "  1.36091728  0.12629169  1.55055934  0.71195699  0.1838576  -0.13727726\n",
      "  0.49682191 -0.40419301 -0.02719531  0.70492818  1.64185293 -0.28187097\n",
      "  0.30079378  0.7669092   0.71314095 -0.57321012 -0.52854874 -0.28690142\n",
      " -0.46946248 -1.04961664 -1.79276062  0.30309935] [ 0.74016217 -0.00275988 -0.72942298  1.70026724  1.42939567  0.04698039\n",
      " -1.27883131 -0.50344732 -0.18194535  1.78338613  1.44476078  0.6774269\n",
      "  0.04340407 -0.75925672 -1.84664851 -0.64253058  0.08442974  1.40864881\n",
      " -0.85070996  0.8778979  -1.10959999  0.05072572  0.29385666  0.48488995\n",
      "  0.37160434  0.37946846  0.96960676 -0.24314556  1.91690606  0.25658621\n",
      "  0.55487687 -0.65924915  0.55179758 -0.07509006 -0.03524933  2.24049008\n",
      "  0.37021233 -0.08191729  0.85617718 -0.08912699 -0.37359261  0.9184671\n",
      "  0.22819575  0.24043706  1.10870414  0.99949721  0.69047835  0.13712378\n",
      "  0.92387195  1.00736667  1.06046273 -0.87549142 -0.97933121 -0.0223768\n",
      " -0.61772328  1.49862278 -1.64532031 -1.41182378  1.16132972  0.61662818\n",
      "  1.82236106 -0.2855209  -0.53434746  1.07884997  0.52617733  0.44306921\n",
      " -0.17376555  0.1265142  -0.8548806   0.38772836  0.14732078 -0.14432428\n",
      " -0.65415279  1.0396981   0.24222883  0.24994395 -0.2823345   1.11577857\n",
      " -0.55119614 -2.40300044 -1.21021714 -0.036826    1.09921477  1.81098186\n",
      " -0.26788673  0.68358    -0.00769373  1.84943188 -1.29388567 -0.59907216\n",
      " -1.68928158 -0.44458306 -1.03521473  0.71731561  0.84093365 -0.97509176\n",
      " -0.8404719  -0.54654059 -0.11833483 -0.57824795]\n"
     ]
    }
   ],
   "source": [
    "forcsv = print(Y,X,Z,e)"
   ]
  },
  {
   "cell_type": "code",
   "execution_count": 26,
   "id": "1c098a78",
   "metadata": {},
   "outputs": [
    {
     "ename": "AttributeError",
     "evalue": "'NoneType' object has no attribute 'to_csv'",
     "output_type": "error",
     "traceback": [
      "\u001b[0;31m---------------------------------------------------------------------------\u001b[0m",
      "\u001b[0;31mAttributeError\u001b[0m                            Traceback (most recent call last)",
      "\u001b[0;32m/var/folders/8b/zxw0f8nx0l54rvl5c2yh7y_w0000gn/T/ipykernel_84586/3360325326.py\u001b[0m in \u001b[0;36m<module>\u001b[0;34m\u001b[0m\n\u001b[0;32m----> 1\u001b[0;31m \u001b[0mforcsv\u001b[0m\u001b[0;34m.\u001b[0m\u001b[0mto_csv\u001b[0m\u001b[0;34m(\u001b[0m\u001b[0;34m'Confounders'\u001b[0m\u001b[0;34m)\u001b[0m\u001b[0;34m\u001b[0m\u001b[0;34m\u001b[0m\u001b[0m\n\u001b[0m",
      "\u001b[0;31mAttributeError\u001b[0m: 'NoneType' object has no attribute 'to_csv'"
     ]
    }
   ],
   "source": [
    "forcsv.to_csv('Confounders')"
   ]
  },
  {
   "cell_type": "code",
   "execution_count": 27,
   "id": "50078670",
   "metadata": {},
   "outputs": [
    {
     "name": "stdout",
     "output_type": "stream",
     "text": [
      "Object `to_csv` not found.\n"
     ]
    }
   ],
   "source": [
    "to_csv?"
   ]
  },
  {
   "cell_type": "code",
   "execution_count": 28,
   "id": "906eff06",
   "metadata": {},
   "outputs": [
    {
     "name": "stdout",
     "output_type": "stream",
     "text": [
      "Object `pd.to_csv` not found.\n"
     ]
    }
   ],
   "source": [
    "pd.to_csv?"
   ]
  },
  {
   "cell_type": "code",
   "execution_count": null,
   "id": "28e7ff9d",
   "metadata": {},
   "outputs": [],
   "source": []
  }
 ],
 "metadata": {
  "kernelspec": {
   "display_name": "Python 3 (ipykernel)",
   "language": "python",
   "name": "python3"
  },
  "language_info": {
   "codemirror_mode": {
    "name": "ipython",
    "version": 3
   },
   "file_extension": ".py",
   "mimetype": "text/x-python",
   "name": "python",
   "nbconvert_exporter": "python",
   "pygments_lexer": "ipython3",
   "version": "3.9.7"
  }
 },
 "nbformat": 4,
 "nbformat_minor": 5
}
